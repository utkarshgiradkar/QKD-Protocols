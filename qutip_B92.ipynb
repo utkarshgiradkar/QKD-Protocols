{
 "cells": [
  {
   "cell_type": "code",
   "execution_count": 1,
   "metadata": {},
   "outputs": [],
   "source": [
    "import numpy as np\n",
    "from qutip import basis, ket2dm, qeye"
   ]
  },
  {
   "cell_type": "code",
   "execution_count": null,
   "metadata": {},
   "outputs": [],
   "source": [
    "from qutip import qeye\n",
    "\n",
    "def depolarize_manual(rho, p):\n",
    "    d = rho.shape[0]\n",
    "    identity = qeye(d)\n",
    "    return (1 - p) * rho + p * (identity / d)\n"
   ]
  },
  {
   "cell_type": "code",
   "execution_count": null,
   "metadata": {},
   "outputs": [
    {
     "name": "stdout",
     "output_type": "stream",
     "text": [
      "Length of final key (after QBER check): 34\n",
      "Sample final key bits: [1, 0, 1, 0, 1, 1, 0, 1, 1, 1, 0, 0, 0, 1, 1, 1, 0, 0, 0, 0]\n",
      "Quantum Bit Error Rate (QBER): 0.00%\n"
     ]
    }
   ],
   "source": [
    "import numpy as np\n",
    "from qutip import basis, ket2dm, qeye\n",
    "\n",
    "def b92_simulation_with_qber(n_bits=1000, theta_deg=25, test_fraction=0.2):\n",
    "    np.random.seed(42)\n",
    "\n",
    "    # Define states\n",
    "    theta = np.deg2rad(theta_deg)\n",
    "    u0 = basis(2, 0)\n",
    "    u1 = np.cos(theta) * basis(2, 0) + np.sin(theta) * basis(2, 1)\n",
    "    rho_u0 = ket2dm(u0)\n",
    "    rho_u1 = ket2dm(u1)\n",
    "    I = qeye(2)\n",
    "    P0 = I - rho_u1\n",
    "    P1 = I - rho_u0\n",
    "\n",
    "    alice_bits = np.random.randint(0, 2, n_bits)\n",
    "    bob_measurements = np.random.randint(0, 2, n_bits)\n",
    "\n",
    "    final_key = []\n",
    "    alice_kept = []\n",
    "    noise_probability = 0.5  # e.g. 5% depolarizing noise\n",
    "\n",
    "    for i in range(n_bits):\n",
    "        # Prepare clean state\n",
    "        state = rho_u0 if alice_bits[i] == 0 else rho_u1\n",
    "        \n",
    "        # Apply depolarizing noise\n",
    "        noisy_state = depolarize_manual(state, p=noise_probability)\n",
    "\n",
    "        # Proceed with Bob's measurement\n",
    "        if bob_measurements[i] == 0:\n",
    "            p_pos = (P0 * noisy_state).tr().real\n",
    "        else:\n",
    "            p_pos = (P1 * noisy_state).tr().real\n",
    "\n",
    "        outcome = np.random.choice([\"+\", \"-\"], p=[p_pos, 1 - p_pos])\n",
    "        if outcome == \"+\":\n",
    "            final_key.append(alice_bits[i])\n",
    "            alice_kept.append(alice_bits[i])\n",
    "\n",
    "\n",
    "    # QBER calculation: Compare a fraction of bits\n",
    "    final_key = np.array(final_key)\n",
    "    sample_size = int(test_fraction * len(final_key))\n",
    "    \n",
    "    if sample_size == 0 or len(final_key) < 2:\n",
    "        return final_key.tolist(), None  # Not enough bits to test QBER\n",
    "\n",
    "    indices = np.random.choice(len(final_key), size=sample_size, replace=False)\n",
    "    alice_sample = final_key[indices]\n",
    "    bob_sample = final_key[indices]  # In this simulation, Bob's guess is assumed correct unless noise introduced\n",
    "    qber = np.sum(alice_sample != bob_sample) / sample_size\n",
    "\n",
    "    # Remove test bits from final key (to simulate realistic scenario)\n",
    "    mask = np.ones(len(final_key), dtype=bool)\n",
    "    mask[indices] = False\n",
    "    final_key_remaining = final_key[mask]\n",
    "\n",
    "    return final_key_remaining.tolist(), qber\n",
    "\n",
    "# Example usage\n",
    "if __name__ == \"__main__\":\n",
    "    key, qber = b92_simulation_with_qber(n_bits=127, theta_deg=25, test_fraction=0.2)\n",
    "    print(\"Length of final key (after QBER check):\", len(key))\n",
    "    print(\"Sample final key bits:\", key[:20])\n",
    "    if qber is not None:\n",
    "        print(f\"Quantum Bit Error Rate (QBER): {qber*100:.2f}%\")\n",
    "    else:\n",
    "        print(\"Not enough bits to compute QBER.\")\n"
   ]
  },
  {
   "cell_type": "code",
   "execution_count": null,
   "metadata": {},
   "outputs": [],
   "source": []
  },
  {
   "cell_type": "code",
   "execution_count": null,
   "metadata": {},
   "outputs": [],
   "source": []
  }
 ],
 "metadata": {
  "kernelspec": {
   "display_name": "myenv",
   "language": "python",
   "name": "python3"
  },
  "language_info": {
   "codemirror_mode": {
    "name": "ipython",
    "version": 3
   },
   "file_extension": ".py",
   "mimetype": "text/x-python",
   "name": "python",
   "nbconvert_exporter": "python",
   "pygments_lexer": "ipython3",
   "version": "3.10.16"
  }
 },
 "nbformat": 4,
 "nbformat_minor": 2
}
