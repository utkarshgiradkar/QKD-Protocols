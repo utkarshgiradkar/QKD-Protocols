{
 "cells": [
  {
   "cell_type": "code",
   "execution_count": 1,
   "metadata": {},
   "outputs": [],
   "source": [
    "import numpy as np\n",
    "from qutip.measurement import measure\n",
    "from qutip import (\n",
    "    basis, Qobj, ket2dm\n",
    ")\n"
   ]
  },
  {
   "cell_type": "code",
   "execution_count": null,
   "metadata": {},
   "outputs": [],
   "source": [
    "from qutip import ket2dm, qeye\n",
    "\n",
    "def depolarize_manual(rho, p):\n",
    "    d = rho.shape[0]  # dimension (should be 2)\n",
    "    return (1 - p) * rho + p * (qeye(d) / d)\n"
   ]
  },
  {
   "cell_type": "code",
   "execution_count": null,
   "metadata": {},
   "outputs": [],
   "source": [
    "def generate_alice_data(n_qubits):\n",
    "    alice_bits = np.random.randint(2, size=n_qubits)\n",
    "    alice_bases = np.random.randint(2, size=n_qubits)\n",
    "    return alice_bits, alice_bases\n"
   ]
  },
  {
   "cell_type": "code",
   "execution_count": null,
   "metadata": {},
   "outputs": [],
   "source": [
    "def generate_bob_bases(n_qubits):\n",
    "    return np.random.randint(2, size=n_qubits)\n"
   ]
  },
  {
   "cell_type": "code",
   "execution_count": null,
   "metadata": {},
   "outputs": [],
   "source": [
    "from qutip import sigmax\n",
    "from qutip.qip.operations.gates import hadamard_transform\n",
    "\n",
    "def prepare_qubit_state(alice_bit, alice_basis):\n",
    "    # Start in |0>\n",
    "    state = basis(2, 0)  # |0>\n",
    "    \n",
    "\n",
    "    # If bit == 1, apply X\n",
    "    if alice_bit == 1:\n",
    "        state = sigmax() * state  # X|0> = |1>\n",
    "\n",
    "    # If basis == 1, apply H\n",
    "    if alice_basis == 1:\n",
    "        # QuTiP's hadamard_transform() is a 2x2 matrix for single qubit\n",
    "        H = hadamard_transform(1)  # 1 qubit Hadamard\n",
    "        state = H * state\n",
    "\n",
    "    return state\n"
   ]
  },
  {
   "cell_type": "code",
   "execution_count": null,
   "metadata": {},
   "outputs": [],
   "source": [
    "def measure_qubit_state(state, bob_basis):\n",
    "    # Z-basis projectors\n",
    "    P0_z = ket2dm(basis(2, 0))  # |0><0|\n",
    "    P1_z = ket2dm(basis(2, 1))  # |1><1|\n",
    "\n",
    "    # X-basis states\n",
    "    plus = (basis(2, 0) + basis(2, 1)).unit()   # |+> = (|0> + |1>)/sqrt(2)\n",
    "    minus = (basis(2, 0) - basis(2, 1)).unit()  # |-> = (|0> - |1>)/sqrt(2)\n",
    "\n",
    "    P0_x = ket2dm(plus)\n",
    "    P1_x = ket2dm(minus)\n",
    "\n",
    "    if bob_basis == 0:\n",
    "        # Measure in Z\n",
    "        M = [P0_z, P1_z]\n",
    "    else:\n",
    "        # Measure in X\n",
    "        M = [P0_x, P1_x]\n",
    "\n",
    "    # measure() gives (result_index, post_measurement_state)\n",
    "    result_index, _ = measure(state, M)\n",
    "    return result_index  # 0 or 1\n"
   ]
  },
  {
   "cell_type": "code",
   "execution_count": null,
   "metadata": {},
   "outputs": [],
   "source": [
    "def compute_qber(alice_bits, alice_bases, bob_bits, bob_bases):\n",
    "    matching_indices = [i for i in range(len(alice_bits)) if alice_bases[i] == bob_bases[i]]\n",
    "    if len(matching_indices) == 0:\n",
    "        return None  # no matching rounds -> invalid scenario\n",
    "\n",
    "    mismatches = sum(alice_bits[i] != bob_bits[i] for i in matching_indices)\n",
    "    return mismatches / len(matching_indices)\n"
   ]
  },
  {
   "cell_type": "code",
   "execution_count": null,
   "metadata": {},
   "outputs": [],
   "source": [
    "def run_bb84_qutip(n_qubits=50):\n",
    "    alice_bits, alice_bases = generate_alice_data(n_qubits)\n",
    "    bob_bases = generate_bob_bases(n_qubits)\n",
    "\n",
    "    bob_measurements = []\n",
    "    for i in range(n_qubits):\n",
    "        state = prepare_qubit_state(alice_bits[i], alice_bases[i])\n",
    "        rho = ket2dm(state)\n",
    "        noisy_rho = depolarize_manual(rho, p=0.2)  # Try p=0.01 to 0.2\n",
    "\n",
    "        m = measure_qubit_state(noisy_rho, bob_bases[i])\n",
    "        bob_measurements.append(m)\n",
    "\n",
    "\n",
    "    # 4. Compute QBER\n",
    "    qber = compute_qber(alice_bits, alice_bases, bob_measurements, bob_bases)\n",
    "    print(f\"BB84 (QuTiP) with {n_qubits} qubits -> QBER = {qber:.3f}\")\n",
    "\n",
    "    return qber\n"
   ]
  },
  {
   "cell_type": "code",
   "execution_count": 40,
   "metadata": {},
   "outputs": [
    {
     "name": "stdout",
     "output_type": "stream",
     "text": [
      "BB84 (QuTiP) with 127 qubits -> QBER = 0.118\n"
     ]
    }
   ],
   "source": [
    "if __name__ == \"__main__\":\n",
    "    qber_val = run_bb84_qutip(n_qubits=127)\n",
    "\n"
   ]
  },
  {
   "cell_type": "code",
   "execution_count": null,
   "metadata": {},
   "outputs": [],
   "source": []
  },
  {
   "cell_type": "code",
   "execution_count": null,
   "metadata": {},
   "outputs": [],
   "source": []
  }
 ],
 "metadata": {
  "kernelspec": {
   "display_name": "myenv",
   "language": "python",
   "name": "python3"
  },
  "language_info": {
   "codemirror_mode": {
    "name": "ipython",
    "version": 3
   },
   "file_extension": ".py",
   "mimetype": "text/x-python",
   "name": "python",
   "nbconvert_exporter": "python",
   "pygments_lexer": "ipython3",
   "version": "3.10.16"
  }
 },
 "nbformat": 4,
 "nbformat_minor": 2
}
