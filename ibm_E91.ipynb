{
 "cells": [
  {
   "cell_type": "code",
   "execution_count": null,
   "metadata": {},
   "outputs": [],
   "source": [
    "import numpy as np\n",
    "import matplotlib.pyplot as plt\n",
    "from qiskit import QuantumCircuit\n",
    "from qiskit.quantum_info import Pauli, SparsePauliOp\n",
    "from qiskit.transpiler.preset_passmanagers import generate_preset_pass_manager\n",
    "from qiskit.quantum_info import SparsePauliOp\n",
    "from qiskit_aer.primitives import Estimator as AerEstimator\n",
    "from qiskit_ibm_runtime import (QiskitRuntimeService,Session,EstimatorV2,EstimatorOptions)\n"
   ]
  },
  {
   "cell_type": "code",
   "execution_count": null,
   "metadata": {},
   "outputs": [
    {
     "name": "stderr",
     "output_type": "stream",
     "text": [
      "C:\\Users\\utkar\\AppData\\Local\\Temp\\ipykernel_7116\\2812903349.py:125: DeprecationWarning: Estimator has been deprecated as of Aer 0.15, please use EstimatorV2 instead.\n",
      "  results = run_e91_local(n_pairs=100, shots=1024)\n",
      "C:\\Users\\utkar\\AppData\\Local\\Temp\\ipykernel_7116\\2812903349.py:125: DeprecationWarning: Option approximation=False is deprecated as of qiskit-aer 0.13. It will be removed no earlier than 3 months after the release date. Instead, use BackendEstimator from qiskit.primitives.\n",
      "  results = run_e91_local(n_pairs=100, shots=1024)\n"
     ]
    },
    {
     "name": "stdout",
     "output_type": "stream",
     "text": [
      "\n",
      "[E91 Local Simulation — Corrected Logic]\n",
      "Number of pairs: 100, Shots: 1024\n",
      "CHSH S = 2.822   (max = ±2√2 ≈ 2.828...)\n",
      "QBER   = 0.0\n",
      "Key length = 19\n",
      "S-value: 2.822265625\n",
      "QBER: 0.0\n",
      "Alice key: [1, 1, 1, 0, 0, 0, 1, 0, 1, 1, 0, 0, 1, 1, 1, 0, 1, 1, 1]\n",
      "Bob   key: [1, 1, 1, 0, 0, 0, 1, 0, 1, 1, 0, 0, 1, 1, 1, 0, 1, 1, 1]\n"
     ]
    }
   ],
   "source": [
    "def apply_alice_measurement(qc, basis: int, alice_qubit=0):\n",
    "    if basis == 1:\n",
    "        qc.ry(-np.pi/4, alice_qubit)\n",
    "    elif basis == 2:\n",
    "        pass\n",
    "    else:\n",
    "        qc.h(alice_qubit)\n",
    "\n",
    "def apply_bob_measurement(qc, basis: int, bob_qubit=1):\n",
    "    if basis == 1:\n",
    "        pass\n",
    "    elif basis == 2:\n",
    "        qc.ry(np.pi/4, bob_qubit)\n",
    "    else:\n",
    "        qc.ry(-np.pi/4, bob_qubit)\n",
    "def prepare_singlet_state():\n",
    "    qc = QuantumCircuit(2)\n",
    "    qc.x(0)\n",
    "    qc.h(0)\n",
    "    qc.cx(0, 1)\n",
    "    qc.z(1)\n",
    "    return qc\n",
    "\n",
    "def build_e91_circuits(n_pairs, alice_bases, bob_bases):\n",
    "    circuits = []\n",
    "    for i in range(n_pairs):\n",
    "        qc = prepare_singlet_state()\n",
    "        apply_alice_measurement(qc, alice_bases[i], alice_qubit=0)\n",
    "        apply_bob_measurement(qc, bob_bases[i], bob_qubit=1)\n",
    "        circuits.append(qc)\n",
    "    return circuits\n",
    "\n",
    "def run_e91_local(n_pairs=100, shots=1024):\n",
    "    alice_bases = np.random.randint(0, 3, size=n_pairs)\n",
    "    bob_bases   = np.random.randint(0, 3, size=n_pairs)\n",
    "    circuits = build_e91_circuits(n_pairs, alice_bases, bob_bases)\n",
    "    observables = [Pauli(\"ZZ\")] * n_pairs\n",
    "    estimator = AerEstimator()\n",
    "    job = estimator.run(circuits, observables, shots=shots)\n",
    "    result = job.result()\n",
    "    corr_values = result.values \n",
    "    ab_dict = {}\n",
    "    for (a, b, val) in zip(alice_bases, bob_bases, corr_values):\n",
    "        ab_dict.setdefault((a,b), []).append(val)\n",
    "    avg_E = {k: np.mean(v) for k, v in ab_dict.items()}\n",
    "    e_xw = avg_E.get((0,0), 0)  # (X, W)\n",
    "    e_xv = avg_E.get((0,2), 0)  # (X, V)\n",
    "    e_zw = avg_E.get((2,0), 0)  # (Z, W)\n",
    "    e_zv = avg_E.get((2,2), 0)  # (Z, V)\n",
    "    s_value = e_xw - e_xv + e_zw + e_zv\n",
    "    alice_key = []\n",
    "    bob_key   = []\n",
    "    for (a_basis, b_basis, cval) in zip(alice_bases, bob_bases, corr_values):\n",
    "    \n",
    "        if (a_basis == 1 and b_basis == 0) or (a_basis == 2 and b_basis == 1):\n",
    "            if np.random.rand() < p_same:\n",
    "                # same => (0,0) or (1,1)\n",
    "                bit = np.random.randint(2)\n",
    "                alice_key.append(bit)\n",
    "                # Bob's anticorrelated => 1 - bit\n",
    "                bob_key.append(1 - bit)\n",
    "            else:\n",
    "                # different => (0,1) or (1,0)\n",
    "                bit = np.random.randint(2)\n",
    "                alice_key.append(bit)\n",
    "                bob_key.append(bit)\n",
    "            \n",
    "    bob_key = [1 - b for b in bob_key]\n",
    "    # compute QBER\n",
    "    mismatches = sum(a != b for a,b in zip(alice_key, bob_key))\n",
    "    qber = mismatches / len(alice_key) if len(alice_key) > 0 else None\n",
    "\n",
    "    print(\"\\n[E91 Local Simulation — Corrected Logic]\")\n",
    "    print(f\"Number of pairs: {n_pairs}, Shots: {shots}\")\n",
    "    print(f\"CHSH S = {s_value:.3f}   (max = ±2√2 ≈ 2.828...)\")\n",
    "    print(f\"QBER   = {qber}\")\n",
    "    print(f\"Key length = {len(alice_key)}\")\n",
    "\n",
    "    return {\n",
    "        \"S\": s_value,\n",
    "        \"QBER\": qber,\n",
    "        \"alice_key\": alice_key,\n",
    "        \"bob_key\": bob_key,\n",
    "        \"corr_values\": corr_values,\n",
    "        \"avg_E\": avg_E\n",
    "    }\n",
    "\n",
    "\n",
    "# -------------------------------------------------------------------------\n",
    "# Simple test invocation\n",
    "if __name__ == \"__main__\":\n",
    "    results = run_e91_local(n_pairs=100, shots=1024)\n",
    "    print(\"S-value:\", results[\"S\"])\n",
    "    print(\"QBER:\", results[\"QBER\"])\n",
    "    print(\"Alice key:\", results[\"alice_key\"])\n",
    "    print(\"Bob   key:\", results[\"bob_key\"])\n"
   ]
  },
  {
   "cell_type": "code",
   "execution_count": 3,
   "metadata": {},
   "outputs": [
    {
     "data": {
      "text/plain": [
       "127"
      ]
     },
     "execution_count": 3,
     "metadata": {},
     "output_type": "execute_result"
    }
   ],
   "source": [
    "service = QiskitRuntimeService(channel=\"ibm_quantum\",  # ibm_cloud \n",
    "                               token = '8a3e35ba3172edac10b0179786cb911eb5368c636c1c4542d158e3d17dabb33b75b7c7069d4fa4919f3bbb758622444d139f28356c32f337f18397b08559b99d')\n",
    "QiskitRuntimeService.save_account(channel='ibm_quantum', overwrite=True,\n",
    "                                  token = '8a3e35ba3172edac10b0179786cb911eb5368c636c1c4542d158e3d17dabb33b75b7c7069d4fa4919f3bbb758622444d139f28356c32f337f18397b08559b99d')\n",
    "backend = service.backend(name = \"ibm_brisbane\")\n",
    "backend.num_qubits"
   ]
  },
  {
   "cell_type": "code",
   "execution_count": null,
   "metadata": {},
   "outputs": [],
   "source": [
    "def run_e91_hardware_corrected(n_pairs=100, backend_name=\"ibm_brisbane\"):\n",
    "    # Generate random bases\n",
    "    alice_bases = np.random.randint(0, 3, size=n_pairs)\n",
    "    bob_bases = np.random.randint(0, 3, size=n_pairs)\n",
    "\n",
    "    # Build and transpile circuits\n",
    "    circuits = build_e91_circuits(n_pairs, alice_bases, bob_bases)\n",
    "    pass_manager = generate_preset_pass_manager(optimization_level=1, backend=backend)\n",
    "    transpiled_circuits = [pass_manager.run(circ) for circ in circuits]\n",
    "\n",
    "    observables = []\n",
    "    for qc in transpiled_circuits:\n",
    "        q0 = qc.find_bit(qc.qubits[0]).index\n",
    "        q1 = qc.find_bit(qc.qubits[1]).index\n",
    "        label = [\"I\"] * qc.num_qubits\n",
    "        label[q0] = \"Z\"\n",
    "        label[q1] = \"Z\"\n",
    "        observables.append(SparsePauliOp(Pauli(\"\".join(label))))\n",
    "\n",
    "    options = EstimatorOptions(\n",
    "        resilience_level=1,\n",
    "        dynamical_decoupling={\"enable\": True, \"sequence_type\": \"XY4\"}\n",
    "    )\n",
    "\n",
    "    with Session(backend=backend) as session:\n",
    "        estimator = EstimatorV2(options=options)\n",
    "        job = estimator.run(list(zip(transpiled_circuits, observables)))\n",
    "        result = job.result()\n",
    "\n",
    "    corr_values = [float(res.data.evs) for res in result]\n",
    "\n",
    "    ab_dict = {}\n",
    "    for (a, b, val) in zip(alice_bases, bob_bases, corr_values):\n",
    "        ab_dict.setdefault((a, b), []).append(val)\n",
    "    avg_E = {k: np.mean(v) for k, v in ab_dict.items()}\n",
    "\n",
    "    e_xw = avg_E.get((0, 0), 0)\n",
    "    e_xv = avg_E.get((0, 2), 0)\n",
    "    e_zw = avg_E.get((2, 0), 0)\n",
    "    e_zv = avg_E.get((2, 2), 0)\n",
    "    s_value = e_xw - e_xv + e_zw + e_zv\n",
    "\n",
    "    alice_key, bob_key = [], []\n",
    "    for (a_basis, b_basis, cval) in zip(alice_bases, bob_bases, corr_values):\n",
    "        if (a_basis == 1 and b_basis == 0) or (a_basis == 2 and b_basis == 1):\n",
    "            p_same = 0.5 * (1 + cval)\n",
    "            if np.random.rand() < p_same:\n",
    "                bit = np.random.randint(2)\n",
    "                alice_key.append(bit)\n",
    "                bob_key.append(1 - bit)\n",
    "            else:\n",
    "                bit = np.random.randint(2)\n",
    "                alice_key.append(bit)\n",
    "                bob_key.append(bit)\n",
    "\n",
    "    bob_key = [1 - b for b in bob_key]\n",
    "    mismatches = sum(a != b for a, b in zip(alice_key, bob_key))\n",
    "    qber = mismatches / len(alice_key) if len(alice_key) > 0 else None\n",
    "\n",
    "    # Output\n",
    "    print(\"\\n[✔️ E91 QKD on Real IBM Quantum Hardware — Updated Logic]\")\n",
    "    print(f\"Backend      : {backend.name}\")\n",
    "    print(f\"CHSH S value : {s_value:.3f}\")\n",
    "    print(f\"QBER         : {qber}\")\n",
    "    print(f\"Key length   : {len(alice_key)}\\n\")\n",
    "\n",
    "    return {\n",
    "        \"backend\": backend.name,\n",
    "        \"S\": s_value,\n",
    "        \"QBER\": qber,\n",
    "        \"alice_key\": alice_key,\n",
    "        \"bob_key\": bob_key,\n",
    "        \"avg_E\": avg_E\n",
    "    }\n"
   ]
  },
  {
   "cell_type": "code",
   "execution_count": 7,
   "metadata": {},
   "outputs": [
    {
     "name": "stderr",
     "output_type": "stream",
     "text": [
      "c:\\Users\\utkar\\anaconda3\\envs\\myenv\\lib\\site-packages\\qiskit_ibm_runtime\\qiskit_runtime_service.py:857: UserWarning: Your current pending jobs are estimated to consume 893.4194092030581 quantum seconds, but you only have 600 quantum seconds left in your monthly quota; therefore, it is likely this job will be canceled\n",
      "  warnings.warn(warning_message)\n"
     ]
    },
    {
     "name": "stdout",
     "output_type": "stream",
     "text": [
      "\n",
      "[✔️ E91 QKD on Real IBM Quantum Hardware — Updated Logic]\n",
      "Backend      : ibm_brisbane\n",
      "CHSH S value : 1.933\n",
      "QBER         : 0.0\n",
      "Key length   : 31\n",
      "\n"
     ]
    }
   ],
   "source": [
    "if __name__ == \"__main__\":\n",
    "    result = run_e91_hardware_corrected(n_pairs=127, backend_name=\"ibm_brisbane\")"
   ]
  },
  {
   "cell_type": "code",
   "execution_count": null,
   "metadata": {},
   "outputs": [],
   "source": []
  }
 ],
 "metadata": {
  "kernelspec": {
   "display_name": "myenv",
   "language": "python",
   "name": "python3"
  },
  "language_info": {
   "codemirror_mode": {
    "name": "ipython",
    "version": 3
   },
   "file_extension": ".py",
   "mimetype": "text/x-python",
   "name": "python",
   "nbconvert_exporter": "python",
   "pygments_lexer": "ipython3",
   "version": "3.10.16"
  }
 },
 "nbformat": 4,
 "nbformat_minor": 2
}
